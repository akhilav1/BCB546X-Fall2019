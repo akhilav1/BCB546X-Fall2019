{
 "cells": [
  {
   "cell_type": "code",
   "execution_count": 7,
   "metadata": {},
   "outputs": [
    {
     "name": "stdout",
     "output_type": "stream",
     "text": [
      "Collecting package metadata (current_repodata.json): ...working... done\n",
      "Solving environment: ...working... done\n",
      "\n",
      "# All requested packages already installed.\n",
      "\n",
      "\n",
      "Note: you may need to restart the kernel to use updated packages.\n"
     ]
    }
   ],
   "source": [
    "conda install -c conda-forge biopython\n"
   ]
  },
  {
   "cell_type": "code",
   "execution_count": 1,
   "metadata": {},
   "outputs": [
    {
     "name": "stdout",
     "output_type": "stream",
     "text": [
      "Requirement already satisfied: biopython in c:\\users\\akhil\\anaconda3\\envs\\py2\\lib\\site-packages (1.75)\n",
      "Requirement already satisfied: numpy in c:\\users\\akhil\\anaconda3\\envs\\py2\\lib\\site-packages (from biopython) (1.17.4)\n",
      "Note: you may need to restart the kernel to use updated packages.\n"
     ]
    }
   ],
   "source": [
    "pip install biopython\n"
   ]
  },
  {
   "cell_type": "code",
   "execution_count": 10,
   "metadata": {},
   "outputs": [
    {
     "name": "stdout",
     "output_type": "stream",
     "text": [
      "AB026282\n",
      "AF076044\n",
      "AF076051\n",
      "AF076052\n",
      "AB026277\n",
      "AB026278\n",
      "AB066603\n",
      "AF076089\n",
      "AF076090\n",
      "AB026269\n",
      "AB026271\n",
      "AB026270\n"
     ]
    }
   ],
   "source": [
    "from Bio import SeqIO\n",
    "for record in SeqIO.parse(\"penguins_cytb.fasta\", \"fasta\"):\n",
    "    print(record.id)"
   ]
  },
  {
   "cell_type": "code",
   "execution_count": 31,
   "metadata": {},
   "outputs": [],
   "source": [
    "cytb_seqs = get_sequences_from_file(\"penguins_cytb.fasta\")"
   ]
  },
  {
   "cell_type": "code",
   "execution_count": 32,
   "metadata": {},
   "outputs": [],
   "source": [
    "## 1 ##\n",
    "####### Dr. X: this gets sequences #######\n",
    "## Given a fasta sequence as input, splits the sequence from the description and returns the description (species name).\n",
    "## Argument: fasta_fn - the input sequence\n",
    "## Return: sequence_data_dict - the species name\n",
    "def get_sequences_from_file(cytb_seqs):\n",
    "    sequence_data_dict = {}\n",
    "    for record in SeqIO.parse(cytb_seqs, \"fasta\"):\n",
    "        description = record.description.split()\n",
    "        species_name = description[1] + \" \" + description[2]\n",
    "        sequence_data_dict[species_name] = record.seq\n",
    "    return(sequence_data_dict)"
   ]
  },
  {
   "cell_type": "code",
   "execution_count": 24,
   "metadata": {
    "scrolled": true
   },
   "outputs": [
    {
     "ename": "SyntaxError",
     "evalue": "invalid syntax (<ipython-input-24-7ec657c7b566>, line 14)",
     "output_type": "error",
     "traceback": [
      "\u001b[1;36m  File \u001b[1;32m\"<ipython-input-24-7ec657c7b566>\"\u001b[1;36m, line \u001b[1;32m14\u001b[0m\n\u001b[1;33m    else\u001b[0m\n\u001b[1;37m        ^\u001b[0m\n\u001b[1;31mSyntaxError\u001b[0m\u001b[1;31m:\u001b[0m invalid syntax\n"
     ]
    }
   ],
   "source": [
    "## 2 ##\n",
    "####### YOUR STRING-TRANSLATE FUNCTION ########\n",
    "def translate_function(string_nucleotides): \n",
    "    mito_table = CodonTable.unambiguous_dna_by_name[\"Vertebrate Mitochondrial\"]\n",
    "    codon1 = \"TAG\"\n",
    "    codon2 = \"TAA\"\n",
    "    codon3 = \"TGA\"\n",
    "    aa_seq_string=\"\"\n",
    "    i=0\n",
    "    while i<len(string_nucleotides):\n",
    "        aa = string_nucleotides[i]+string_nucleotides[i+1]+string_nucleotides[i+2]\n",
    "        if(aa!=codon1 and aa!=codon2 and aa!=codon3):\n",
    "            aa_seq_string+=aa\n",
    "        else\n",
    "            amino acid: mito_table.forward_table[codon]\n",
    "            i+=3\n",
    "    return(aa_seq_string)"
   ]
  },
  {
   "cell_type": "code",
   "execution_count": 33,
   "metadata": {},
   "outputs": [],
   "source": [
    "## 3 ##\n",
    "####### YOUR ALTERNATIVE FUNCTION ########\n",
    "def translate_function2(string_nucleotides): \n",
    "    codon1 = \"TAG\"\n",
    "    codon2 = \"TAA\"\n",
    "    codon3 = \"TGA\"\n",
    "    coding_dna.translate(table=\"Vertebrate Mitochondrial\")\n",
    "    aa_seq_string = Seq(string_nucleotides, HasStopCodon(codon1, codon2, codon3))\n",
    "    return(aa_seq_string)"
   ]
  },
  {
   "cell_type": "code",
   "execution_count": 34,
   "metadata": {},
   "outputs": [],
   "source": [
    "## 4 ##\n",
    "####### YOUR COUNT AA ANALYSIS FUNCTION ########\n",
    "from Bio.SeqUtils.ProtParam import ProteinAnalysis\n",
    "def compute_molecular_weight(aa_seq):\n",
    "    aa_trans = translate_function(aa_seq)\n",
    "    analysed_seq = ProteinAnalysis(aa_trans)\n",
    "    m_weight = analysed_seq.molecular_weight()\n",
    "    return m_weight"
   ]
  },
  {
   "cell_type": "code",
   "execution_count": null,
   "metadata": {},
   "outputs": [],
   "source": [
    "## 5 ##\n",
    "####### YOUR GC CONTENT ANALYSIS FUNCTION ########\n",
    "x = input(\"aa_seq_string\").upper()\n",
    "def gc_content(aa_seq):\n",
    "    count = 0\n",
    "    for i in aa_seq:\n",
    "        if i == \"C\" or i == \"G\":\n",
    "            count = count + 1\n",
    "    return count"
   ]
  },
  {
   "cell_type": "code",
   "execution_count": 29,
   "metadata": {},
   "outputs": [],
   "source": [
    "###   MAIN   ###\n",
    "cytb_seqs = get_sequences_from_file(\"penguins_cytb.fasta\") \n",
    "\n",
    "penguins_df = pd.read_csv(\"penguins_mass.csv\") # Includes only data for body mass \n",
    "species_list = list(penguins_df.species)"
   ]
  },
  {
   "cell_type": "code",
   "execution_count": 30,
   "metadata": {},
   "outputs": [],
   "source": [
    "import pandas as pd"
   ]
  },
  {
   "cell_type": "code",
   "execution_count": null,
   "metadata": {},
   "outputs": [],
   "source": [
    "from Bio.Seq import Seq\n",
    ">>> from Bio.Alphabet import IUPAC\n",
    ">>> coding_dna = Seq(\"ATGGCCATTGTAATGGGCCGCTGAAAGGGTGCCCGATAG\", IUPAC.unambiguous_dna)\n",
    ">>> coding_dna\n",
    "Seq('ATGGCCATTGTAATGGGCCGCTGAAAGGGTGCCCGATAG', IUPACUnambiguousDNA())\n",
    ">>> coding_dna.translate()\n",
    "Seq('MAIVMGR*KGAR*', HasStopCodon(IUPACProtein(), '*'))\n",
    ">>> coding_dna.translate(table=2, to_stop=True)\n",
    "Seq('MAIVMGRWKGAR', IUPACProtein())"
   ]
  },
  {
   "cell_type": "code",
   "execution_count": null,
   "metadata": {},
   "outputs": [],
   "source": []
  },
  {
   "cell_type": "code",
   "execution_count": null,
   "metadata": {},
   "outputs": [],
   "source": []
  },
  {
   "cell_type": "code",
   "execution_count": null,
   "metadata": {},
   "outputs": [],
   "source": []
  },
  {
   "cell_type": "code",
   "execution_count": null,
   "metadata": {},
   "outputs": [],
   "source": []
  },
  {
   "cell_type": "code",
   "execution_count": null,
   "metadata": {},
   "outputs": [],
   "source": []
  },
  {
   "cell_type": "code",
   "execution_count": null,
   "metadata": {},
   "outputs": [],
   "source": []
  }
 ],
 "metadata": {
  "kernelspec": {
   "display_name": "Python 3",
   "language": "python",
   "name": "python3"
  },
  "language_info": {
   "codemirror_mode": {
    "name": "ipython",
    "version": 3
   },
   "file_extension": ".py",
   "mimetype": "text/x-python",
   "name": "python",
   "nbconvert_exporter": "python",
   "pygments_lexer": "ipython3",
   "version": "3.7.4"
  }
 },
 "nbformat": 4,
 "nbformat_minor": 2
}
