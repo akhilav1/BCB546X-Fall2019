{
 "cells": [
  {
   "cell_type": "code",
   "execution_count": 190,
   "metadata": {},
   "outputs": [
    {
     "name": "stdout",
     "output_type": "stream",
     "text": [
      "Collecting package metadata (current_repodata.json): ...working... done\n",
      "Solving environment: ...working... done\n",
      "\n",
      "# All requested packages already installed.\n",
      "\n",
      "\n",
      "Note: you may need to restart the kernel to use updated packages.\n"
     ]
    }
   ],
   "source": [
    "conda install -c conda-forge biopython"
   ]
  },
  {
   "cell_type": "code",
   "execution_count": 191,
   "metadata": {},
   "outputs": [
    {
     "name": "stdout",
     "output_type": "stream",
     "text": [
      "Requirement already satisfied: biopython in c:\\users\\akhil\\anaconda3\\lib\\site-packages (1.75)\n",
      "Requirement already satisfied: numpy in c:\\users\\akhil\\anaconda3\\lib\\site-packages (from biopython) (1.16.5)\n",
      "Note: you may need to restart the kernel to use updated packages.\n"
     ]
    }
   ],
   "source": [
    "pip install biopython"
   ]
  },
  {
   "cell_type": "code",
   "execution_count": null,
   "metadata": {},
   "outputs": [],
   "source": [
    "## 1 ##\n",
    "####### Dr. X: this gets sequences #######\n",
    "## Given a fasta sequence as input, splits the sequence from the description and returns the description (species name).\n",
    "This function will take any input  as any fasta file called \"fasta_fn\".Then a dictionary will be created and create a foward loop which for every fasta file input will first isolate the description and then corresponding  create string species name made of the second and third element/column of the description. The species name as a key in a dictionary and the sequence as its value. For parsing the fasta file\n",
    "## Argument: fasta_fn - the input sequence\n",
    "## Return: sequence_data_dict - the species name\n",
    "from Bio import SeqIO\n",
    "def get_sequences_from_file(fasta_fn):\n",
    "    sequence_data_dict = {}\n",
    "    for record in SeqIO.parse(fasta_fn, \"fasta\"):\n",
    "        description = record.description.split()\n",
    "        species_name = description[1] + \" \" + description[2]\n",
    "        sequence_data_dict[species_name] = record.seq\n",
    "    return(sequence_data_dict)"
   ]
  },
  {
   "cell_type": "code",
   "execution_count": 205,
   "metadata": {
    "scrolled": true
   },
   "outputs": [],
   "source": [
    "## 2 ##\n",
    "####### YOUR STRING-TRANSLATE FUNCTION ########\n",
    "from Bio.Data import CodonTable\n",
    "def translate_function(string_nucleotides): \n",
    "    mito_table = CodonTable.unambiguous_dna_by_name[\"Vertebrate Mitochondrial\"] #define variable as desired codon table\n",
    "    codon1 = \"TAG\"\n",
    "    codon2 = \"TAA\"\n",
    "    codon3 = \"TGA\"\n",
    "    aa_seq_string= []\n",
    "    i=0\n",
    "    while i<len(string_nucleotides):\n",
    "        aa = string_nucleotides[i]+string_nucleotides[i+1]+string_nucleotides[i+2]\n",
    "        if(aa!=codon1 and aa!=codon2 and aa!=codon3):\n",
    "            aa_seq_string+=aa\n",
    "        else:\n",
    "            aa: mito_table.forward_table[codon]\n",
    "            i+=3\n",
    "            aa_seq_string += aa\n",
    "    return(aa_seq_string)\n",
    "    print(aa_seq_string)"
   ]
  },
  {
   "cell_type": "code",
   "execution_count": null,
   "metadata": {},
   "outputs": [],
   "source": [
    "## 3 ##\n",
    "####### YOUR ALTERNATIVE FUNCTION ########\n",
    "from Bio.Seq import Seq\n",
    "from Bio.Alphabet import IUPAC\n",
    "from Bio.Alphabet import generic_dna\n",
    "def translate_function2(nucleotides): #for alternate translate function\n",
    "    string_nucleotides = Seq(str(nucleotides), generic_dna) #for creating string_nucleotide which is object class\n",
    "    aa_seq = string_nucleotides.translate(table = 2, to_stop = True) # creating variable called string_nucleotode\n",
    "    return(aa_seq)"
   ]
  },
  {
   "cell_type": "code",
   "execution_count": 195,
   "metadata": {},
   "outputs": [],
   "source": [
    "## 4 ##\n",
    "####### YOUR COUNT AA ANALYSIS FUNCTION ########\n",
    "from Bio.SeqUtils.ProtParam import ProteinAnalysis \n",
    "from Bio.SeqUtils import molecular_weight \n",
    "def compute_molecular_weight(aa_seq):# molecular weight calculation function\n",
    "    m_weight = molecular_weight(aa_seq) # calculate molecular weight from the above created aminoacid seequnce aa_seq\n",
    "    return m_weight"
   ]
  },
  {
   "cell_type": "code",
   "execution_count": 196,
   "metadata": {},
   "outputs": [],
   "source": [
    "## 5 ##\n",
    "####### YOUR GC CONTENT ANALYSIS FUNCTION ########\n",
    "#x = input(\"aa_seq_string\").upper()\n",
    "from Bio.SeqUtils import GC \n",
    "def gc_content(aa_seq):# for creating fucntion to calculate GC coctent\n",
    "    gc_content = GC(aa_seq)\n",
    "    return gc_content"
   ]
  },
  {
   "cell_type": "code",
   "execution_count": 197,
   "metadata": {},
   "outputs": [
    {
     "name": "stdout",
     "output_type": "stream",
     "text": [
      "{'Aptenodytes forsteri': Seq('ATGGCCCCAAATCTCCGAAAATCCCATCCCCTCCTAAAAATAATTAATAACTCC...TAA', SingleLetterAlphabet()), 'Aptenodytes patagonicus': Seq('ATGGCCCCAAACCTCCGAAAATCCCATCCTCTCCTAAAAATAATTAATAACTCC...TAA', SingleLetterAlphabet()), 'Eudyptes chrysocome': Seq('ATGGCCCCCAACCTCCGAAAATCCCACCCCCTCCTAAAAACAATCAATAACTCC...TAA', SingleLetterAlphabet()), 'Eudyptes chrysolophus': Seq('ATGGCCCCCAACCTCCGAAAATCCCACCCCCTCCTAAAAACAATCAATAACTCC...TAA', SingleLetterAlphabet()), 'Eudyptes sclateri': Seq('ATGGCCCCCAACCTCCGAAAATCCCACCCCCTCCTAAAAACAATCAATAACTCC...TAA', SingleLetterAlphabet()), 'Eudyptula minor': Seq('ATGGCCCCCAACCTCCGAAAATCTCACCCCCTCCTAAAAATAATCAACAACTCT...TAA', SingleLetterAlphabet()), 'Pygoscelis adeliae': Seq('ATGGCCCCCAACCTCCGAAAATCCCACCCTCTCCTAAAAATAATTAACAACTCC...TAA', SingleLetterAlphabet()), 'Pygoscelis antarctica': Seq('ATGGCCCCCAACCTCCGAAAATCCCACCCTCTCCTAAAAATAATCAACAACTCC...TAG', SingleLetterAlphabet()), 'Pygoscelis papua': Seq('ATGGCCCCCAACCTTCGAAAATCCCACCCTCTCCTAAAAATAATCAACAAATCC...TAG', SingleLetterAlphabet()), 'Spheniscus demersus': Seq('ATGGCCCCCAACCTCCGAAAATCCCACCCTCTCCTAAAAACAATCAACAACTCC...TAA', SingleLetterAlphabet()), 'Spheniscus humboldti': Seq('ATGGCCCCCAACCTCCGAAAATCCCACCCTCTCCTAAAAACAATCAACAACTCC...TAA', SingleLetterAlphabet()), 'Spheniscus magellanicus': Seq('ATGGCCCCCAACCTCCGAAAATCCCACCCTCTCCTAAAAACAATCAACAACTCC...TAA', SingleLetterAlphabet())}\n",
      "AB026282\n",
      "AF076044\n",
      "AF076051\n",
      "AF076052\n",
      "AB026277\n",
      "AB026278\n",
      "AB066603\n",
      "AF076089\n",
      "AF076090\n",
      "AB026269\n",
      "AB026271\n",
      "AB026270\n"
     ]
    }
   ],
   "source": [
    "###   MAIN   ###\n",
    "cytb_seqs = get_sequences_from_file(\"penguins_cytb.fasta\")#   to get the sequence from penguins_cytb.fasta file\n",
    "print(cytb_seqs)\n",
    "from Bio import SeqIO\n",
    "for record in SeqIO.parse(\"penguins_cytb.fasta\", \"fasta\"):\n",
    "    print(record.id)\n",
    "penguins_df = pd.read_csv(\"penguins_mass.csv\") # Includes only data for body mass \n",
    "species_list = list(penguins_df.species)"
   ]
  },
  {
   "cell_type": "code",
   "execution_count": 198,
   "metadata": {},
   "outputs": [
    {
     "name": "stdout",
     "output_type": "stream",
     "text": [
      "                    species   mass  Molecular_weight  GC_content\n",
      "0      Aptenodytes forsteri  28.00               NaN         NaN\n",
      "1   Aptenodytes patagonicus  13.40               NaN         NaN\n",
      "2       Eudyptes chrysocome   2.80               NaN         NaN\n",
      "3     Eudyptes chrysolophus   4.50               NaN         NaN\n",
      "4         Eudyptes sclateri   4.25               NaN         NaN\n",
      "5           Eudyptula minor   1.60               NaN         NaN\n",
      "6        Pygoscelis adeliae   4.60               NaN         NaN\n",
      "7     Pygoscelis antarctica   4.10               NaN         NaN\n",
      "8          Pygoscelis papua   6.10               NaN         NaN\n",
      "9       Spheniscus demersus   3.20               NaN         NaN\n",
      "10     Spheniscus humboldti   4.75               NaN         NaN\n",
      "11  Spheniscus magellanicus   3.40               NaN         NaN\n"
     ]
    }
   ],
   "source": [
    "## 6 ## \n",
    "## Add two new columns to the penguin DataFrame: (1) molecular weight and (2) GC content.\n",
    "## Set the value to 'NaN' to indicate that these cells are currently empty.\n",
    "\n",
    "import pandas as pd\n",
    "# import numpy as np # package Numpy to fill with missing values/NAS\n",
    "penguins_df = pd.read_csv(\"penguins_mass.csv\") # Includes only data for body mass pd.read_csv(\"penguins_mass.csv\")\n",
    "penguins_df = penguins_df.assign(Molecular_weight = np.nan, GC_content = np.nan)# two additional columns Molecular _weight and GC_content, \n",
    "print(penguins_df)"
   ]
  },
  {
   "cell_type": "code",
   "execution_count": 199,
   "metadata": {},
   "outputs": [
    {
     "name": "stdout",
     "output_type": "stream",
     "text": [
      "                    species   mass  Molecular_weight  GC_content\n",
      "0      Aptenodytes forsteri  28.00        42459.6021   48.381452\n",
      "1   Aptenodytes patagonicus  13.40               NaN         NaN\n",
      "2       Eudyptes chrysocome   2.80               NaN         NaN\n",
      "3     Eudyptes chrysolophus   4.50               NaN         NaN\n",
      "4         Eudyptes sclateri   4.25               NaN         NaN\n",
      "5           Eudyptula minor   1.60               NaN         NaN\n",
      "6        Pygoscelis adeliae   4.60               NaN         NaN\n",
      "7     Pygoscelis antarctica   4.10               NaN         NaN\n",
      "8          Pygoscelis papua   6.10               NaN         NaN\n",
      "9       Spheniscus demersus   3.20               NaN         NaN\n",
      "10     Spheniscus humboldti   4.75               NaN         NaN\n",
      "11  Spheniscus magellanicus   3.40               NaN         NaN\n",
      "['Aptenodytes forsteri', 'Aptenodytes patagonicus', 'Eudyptes chrysocome', 'Eudyptes chrysolophus', 'Eudyptes sclateri', 'Eudyptula minor', 'Pygoscelis adeliae', 'Pygoscelis antarctica', 'Pygoscelis papua', 'Spheniscus demersus', 'Spheniscus humboldti', 'Spheniscus magellanicus']\n",
      "                    species   mass  Molecular_weight  GC_content\n",
      "0      Aptenodytes forsteri  28.00        42459.6021   48.381452\n",
      "1   Aptenodytes patagonicus  13.40        42563.7067   49.693788\n",
      "2       Eudyptes chrysocome   2.80               NaN         NaN\n",
      "3     Eudyptes chrysolophus   4.50               NaN         NaN\n",
      "4         Eudyptes sclateri   4.25               NaN         NaN\n",
      "5           Eudyptula minor   1.60               NaN         NaN\n",
      "6        Pygoscelis adeliae   4.60               NaN         NaN\n",
      "7     Pygoscelis antarctica   4.10               NaN         NaN\n",
      "8          Pygoscelis papua   6.10               NaN         NaN\n",
      "9       Spheniscus demersus   3.20               NaN         NaN\n",
      "10     Spheniscus humboldti   4.75               NaN         NaN\n",
      "11  Spheniscus magellanicus   3.40               NaN         NaN\n",
      "['Aptenodytes forsteri', 'Aptenodytes patagonicus', 'Eudyptes chrysocome', 'Eudyptes chrysolophus', 'Eudyptes sclateri', 'Eudyptula minor', 'Pygoscelis adeliae', 'Pygoscelis antarctica', 'Pygoscelis papua', 'Spheniscus demersus', 'Spheniscus humboldti', 'Spheniscus magellanicus']\n",
      "                    species   mass  Molecular_weight  GC_content\n",
      "0      Aptenodytes forsteri  28.00        42459.6021   48.381452\n",
      "1   Aptenodytes patagonicus  13.40        42563.7067   49.693788\n",
      "2       Eudyptes chrysocome   2.80        42475.5753   51.181102\n",
      "3     Eudyptes chrysolophus   4.50               NaN         NaN\n",
      "4         Eudyptes sclateri   4.25               NaN         NaN\n",
      "5           Eudyptula minor   1.60               NaN         NaN\n",
      "6        Pygoscelis adeliae   4.60               NaN         NaN\n",
      "7     Pygoscelis antarctica   4.10               NaN         NaN\n",
      "8          Pygoscelis papua   6.10               NaN         NaN\n",
      "9       Spheniscus demersus   3.20               NaN         NaN\n",
      "10     Spheniscus humboldti   4.75               NaN         NaN\n",
      "11  Spheniscus magellanicus   3.40               NaN         NaN\n",
      "['Aptenodytes forsteri', 'Aptenodytes patagonicus', 'Eudyptes chrysocome', 'Eudyptes chrysolophus', 'Eudyptes sclateri', 'Eudyptula minor', 'Pygoscelis adeliae', 'Pygoscelis antarctica', 'Pygoscelis papua', 'Spheniscus demersus', 'Spheniscus humboldti', 'Spheniscus magellanicus']\n",
      "                    species   mass  Molecular_weight  GC_content\n",
      "0      Aptenodytes forsteri  28.00        42459.6021   48.381452\n",
      "1   Aptenodytes patagonicus  13.40        42563.7067   49.693788\n",
      "2       Eudyptes chrysocome   2.80        42475.5753   51.181102\n",
      "3     Eudyptes chrysolophus   4.50        42445.5493   50.918635\n",
      "4         Eudyptes sclateri   4.25               NaN         NaN\n",
      "5           Eudyptula minor   1.60               NaN         NaN\n",
      "6        Pygoscelis adeliae   4.60               NaN         NaN\n",
      "7     Pygoscelis antarctica   4.10               NaN         NaN\n",
      "8          Pygoscelis papua   6.10               NaN         NaN\n",
      "9       Spheniscus demersus   3.20               NaN         NaN\n",
      "10     Spheniscus humboldti   4.75               NaN         NaN\n",
      "11  Spheniscus magellanicus   3.40               NaN         NaN\n",
      "['Aptenodytes forsteri', 'Aptenodytes patagonicus', 'Eudyptes chrysocome', 'Eudyptes chrysolophus', 'Eudyptes sclateri', 'Eudyptula minor', 'Pygoscelis adeliae', 'Pygoscelis antarctica', 'Pygoscelis papua', 'Spheniscus demersus', 'Spheniscus humboldti', 'Spheniscus magellanicus']\n",
      "                    species   mass  Molecular_weight  GC_content\n",
      "0      Aptenodytes forsteri  28.00        42459.6021   48.381452\n",
      "1   Aptenodytes patagonicus  13.40        42563.7067   49.693788\n",
      "2       Eudyptes chrysocome   2.80        42475.5753   51.181102\n",
      "3     Eudyptes chrysolophus   4.50        42445.5493   50.918635\n",
      "4         Eudyptes sclateri   4.25        42475.5753   50.831146\n",
      "5           Eudyptula minor   1.60               NaN         NaN\n",
      "6        Pygoscelis adeliae   4.60               NaN         NaN\n",
      "7     Pygoscelis antarctica   4.10               NaN         NaN\n",
      "8          Pygoscelis papua   6.10               NaN         NaN\n",
      "9       Spheniscus demersus   3.20               NaN         NaN\n",
      "10     Spheniscus humboldti   4.75               NaN         NaN\n",
      "11  Spheniscus magellanicus   3.40               NaN         NaN\n",
      "['Aptenodytes forsteri', 'Aptenodytes patagonicus', 'Eudyptes chrysocome', 'Eudyptes chrysolophus', 'Eudyptes sclateri', 'Eudyptula minor', 'Pygoscelis adeliae', 'Pygoscelis antarctica', 'Pygoscelis papua', 'Spheniscus demersus', 'Spheniscus humboldti', 'Spheniscus magellanicus']\n",
      "                    species   mass  Molecular_weight  GC_content\n",
      "0      Aptenodytes forsteri  28.00        42459.6021   48.381452\n",
      "1   Aptenodytes patagonicus  13.40        42563.7067   49.693788\n",
      "2       Eudyptes chrysocome   2.80        42475.5753   51.181102\n",
      "3     Eudyptes chrysolophus   4.50        42445.5493   50.918635\n",
      "4         Eudyptes sclateri   4.25        42475.5753   50.831146\n",
      "5           Eudyptula minor   1.60        42491.6408   49.256343\n",
      "6        Pygoscelis adeliae   4.60               NaN         NaN\n",
      "7     Pygoscelis antarctica   4.10               NaN         NaN\n",
      "8          Pygoscelis papua   6.10               NaN         NaN\n",
      "9       Spheniscus demersus   3.20               NaN         NaN\n",
      "10     Spheniscus humboldti   4.75               NaN         NaN\n",
      "11  Spheniscus magellanicus   3.40               NaN         NaN\n",
      "['Aptenodytes forsteri', 'Aptenodytes patagonicus', 'Eudyptes chrysocome', 'Eudyptes chrysolophus', 'Eudyptes sclateri', 'Eudyptula minor', 'Pygoscelis adeliae', 'Pygoscelis antarctica', 'Pygoscelis papua', 'Spheniscus demersus', 'Spheniscus humboldti', 'Spheniscus magellanicus']\n",
      "                    species   mass  Molecular_weight  GC_content\n",
      "0      Aptenodytes forsteri  28.00        42459.6021   48.381452\n",
      "1   Aptenodytes patagonicus  13.40        42563.7067   49.693788\n",
      "2       Eudyptes chrysocome   2.80        42475.5753   51.181102\n",
      "3     Eudyptes chrysolophus   4.50        42445.5493   50.918635\n",
      "4         Eudyptes sclateri   4.25        42475.5753   50.831146\n",
      "5           Eudyptula minor   1.60        42491.6408   49.256343\n",
      "6        Pygoscelis adeliae   4.60        42458.6140   49.081365\n",
      "7     Pygoscelis antarctica   4.10               NaN         NaN\n",
      "8          Pygoscelis papua   6.10               NaN         NaN\n",
      "9       Spheniscus demersus   3.20               NaN         NaN\n",
      "10     Spheniscus humboldti   4.75               NaN         NaN\n",
      "11  Spheniscus magellanicus   3.40               NaN         NaN\n",
      "['Aptenodytes forsteri', 'Aptenodytes patagonicus', 'Eudyptes chrysocome', 'Eudyptes chrysolophus', 'Eudyptes sclateri', 'Eudyptula minor', 'Pygoscelis adeliae', 'Pygoscelis antarctica', 'Pygoscelis papua', 'Spheniscus demersus', 'Spheniscus humboldti', 'Spheniscus magellanicus']\n",
      "                    species   mass  Molecular_weight  GC_content\n",
      "0      Aptenodytes forsteri  28.00        42459.6021   48.381452\n",
      "1   Aptenodytes patagonicus  13.40        42563.7067   49.693788\n",
      "2       Eudyptes chrysocome   2.80        42475.5753   51.181102\n",
      "3     Eudyptes chrysolophus   4.50        42445.5493   50.918635\n",
      "4         Eudyptes sclateri   4.25        42475.5753   50.831146\n",
      "5           Eudyptula minor   1.60        42491.6408   49.256343\n",
      "6        Pygoscelis adeliae   4.60        42458.6140   49.081365\n",
      "7     Pygoscelis antarctica   4.10        42404.5423   47.769029\n",
      "8          Pygoscelis papua   6.10               NaN         NaN\n",
      "9       Spheniscus demersus   3.20               NaN         NaN\n",
      "10     Spheniscus humboldti   4.75               NaN         NaN\n",
      "11  Spheniscus magellanicus   3.40               NaN         NaN\n",
      "['Aptenodytes forsteri', 'Aptenodytes patagonicus', 'Eudyptes chrysocome', 'Eudyptes chrysolophus', 'Eudyptes sclateri', 'Eudyptula minor', 'Pygoscelis adeliae', 'Pygoscelis antarctica', 'Pygoscelis papua', 'Spheniscus demersus', 'Spheniscus humboldti', 'Spheniscus magellanicus']\n",
      "                    species   mass  Molecular_weight  GC_content\n",
      "0      Aptenodytes forsteri  28.00        42459.6021   48.381452\n",
      "1   Aptenodytes patagonicus  13.40        42563.7067   49.693788\n",
      "2       Eudyptes chrysocome   2.80        42475.5753   51.181102\n",
      "3     Eudyptes chrysolophus   4.50        42445.5493   50.918635\n",
      "4         Eudyptes sclateri   4.25        42475.5753   50.831146\n",
      "5           Eudyptula minor   1.60        42491.6408   49.256343\n",
      "6        Pygoscelis adeliae   4.60        42458.6140   49.081365\n",
      "7     Pygoscelis antarctica   4.10        42404.5423   47.769029\n",
      "8          Pygoscelis papua   6.10        42595.8759   47.156605\n",
      "9       Spheniscus demersus   3.20               NaN         NaN\n",
      "10     Spheniscus humboldti   4.75               NaN         NaN\n",
      "11  Spheniscus magellanicus   3.40               NaN         NaN\n",
      "['Aptenodytes forsteri', 'Aptenodytes patagonicus', 'Eudyptes chrysocome', 'Eudyptes chrysolophus', 'Eudyptes sclateri', 'Eudyptula minor', 'Pygoscelis adeliae', 'Pygoscelis antarctica', 'Pygoscelis papua', 'Spheniscus demersus', 'Spheniscus humboldti', 'Spheniscus magellanicus']\n",
      "                    species   mass  Molecular_weight  GC_content\n",
      "0      Aptenodytes forsteri  28.00        42459.6021   48.381452\n",
      "1   Aptenodytes patagonicus  13.40        42563.7067   49.693788\n",
      "2       Eudyptes chrysocome   2.80        42475.5753   51.181102\n",
      "3     Eudyptes chrysolophus   4.50        42445.5493   50.918635\n",
      "4         Eudyptes sclateri   4.25        42475.5753   50.831146\n",
      "5           Eudyptula minor   1.60        42491.6408   49.256343\n",
      "6        Pygoscelis adeliae   4.60        42458.6140   49.081365\n",
      "7     Pygoscelis antarctica   4.10        42404.5423   47.769029\n",
      "8          Pygoscelis papua   6.10        42595.8759   47.156605\n",
      "9       Spheniscus demersus   3.20        42431.5490   48.293963\n",
      "10     Spheniscus humboldti   4.75               NaN         NaN\n",
      "11  Spheniscus magellanicus   3.40               NaN         NaN\n",
      "['Aptenodytes forsteri', 'Aptenodytes patagonicus', 'Eudyptes chrysocome', 'Eudyptes chrysolophus', 'Eudyptes sclateri', 'Eudyptula minor', 'Pygoscelis adeliae', 'Pygoscelis antarctica', 'Pygoscelis papua', 'Spheniscus demersus', 'Spheniscus humboldti', 'Spheniscus magellanicus']\n",
      "                    species   mass  Molecular_weight  GC_content\n",
      "0      Aptenodytes forsteri  28.00        42459.6021   48.381452\n",
      "1   Aptenodytes patagonicus  13.40        42563.7067   49.693788\n",
      "2       Eudyptes chrysocome   2.80        42475.5753   51.181102\n",
      "3     Eudyptes chrysolophus   4.50        42445.5493   50.918635\n",
      "4         Eudyptes sclateri   4.25        42475.5753   50.831146\n",
      "5           Eudyptula minor   1.60        42491.6408   49.256343\n",
      "6        Pygoscelis adeliae   4.60        42458.6140   49.081365\n",
      "7     Pygoscelis antarctica   4.10        42404.5423   47.769029\n",
      "8          Pygoscelis papua   6.10        42595.8759   47.156605\n",
      "9       Spheniscus demersus   3.20        42431.5490   48.293963\n",
      "10     Spheniscus humboldti   4.75        42399.5520   49.256343\n",
      "11  Spheniscus magellanicus   3.40               NaN         NaN\n",
      "['Aptenodytes forsteri', 'Aptenodytes patagonicus', 'Eudyptes chrysocome', 'Eudyptes chrysolophus', 'Eudyptes sclateri', 'Eudyptula minor', 'Pygoscelis adeliae', 'Pygoscelis antarctica', 'Pygoscelis papua', 'Spheniscus demersus', 'Spheniscus humboldti', 'Spheniscus magellanicus']\n",
      "                    species   mass  Molecular_weight  GC_content\n",
      "0      Aptenodytes forsteri  28.00        42459.6021   48.381452\n",
      "1   Aptenodytes patagonicus  13.40        42563.7067   49.693788\n",
      "2       Eudyptes chrysocome   2.80        42475.5753   51.181102\n",
      "3     Eudyptes chrysolophus   4.50        42445.5493   50.918635\n",
      "4         Eudyptes sclateri   4.25        42475.5753   50.831146\n",
      "5           Eudyptula minor   1.60        42491.6408   49.256343\n",
      "6        Pygoscelis adeliae   4.60        42458.6140   49.081365\n",
      "7     Pygoscelis antarctica   4.10        42404.5423   47.769029\n",
      "8          Pygoscelis papua   6.10        42595.8759   47.156605\n",
      "9       Spheniscus demersus   3.20        42431.5490   48.293963\n",
      "10     Spheniscus humboldti   4.75        42399.5520   49.256343\n",
      "11  Spheniscus magellanicus   3.40        42459.6021   48.206474\n",
      "['Aptenodytes forsteri', 'Aptenodytes patagonicus', 'Eudyptes chrysocome', 'Eudyptes chrysolophus', 'Eudyptes sclateri', 'Eudyptula minor', 'Pygoscelis adeliae', 'Pygoscelis antarctica', 'Pygoscelis papua', 'Spheniscus demersus', 'Spheniscus humboldti', 'Spheniscus magellanicus']\n"
     ]
    },
    {
     "name": "stderr",
     "output_type": "stream",
     "text": [
      "C:\\Users\\akhil\\Anaconda3\\lib\\site-packages\\ipykernel_launcher.py:9: SettingWithCopyWarning: \n",
      "A value is trying to be set on a copy of a slice from a DataFrame\n",
      "\n",
      "See the caveats in the documentation: http://pandas.pydata.org/pandas-docs/stable/user_guide/indexing.html#returning-a-view-versus-a-copy\n",
      "  if __name__ == '__main__':\n",
      "C:\\Users\\akhil\\Anaconda3\\lib\\site-packages\\ipykernel_launcher.py:10: SettingWithCopyWarning: \n",
      "A value is trying to be set on a copy of a slice from a DataFrame\n",
      "\n",
      "See the caveats in the documentation: http://pandas.pydata.org/pandas-docs/stable/user_guide/indexing.html#returning-a-view-versus-a-copy\n",
      "  # Remove the CWD from sys.path while we load stuff.\n"
     ]
    }
   ],
   "source": [
    "## 7 ##\n",
    "## Write a for-loop that translates each sequence and also gets molecular weight and computes the GC content\n",
    "## of each translated sequence and adds those data to DataFrame\n",
    "for key, value in cytb_seqs.items():\n",
    "    aa_seq = translate_function2(value)\n",
    "    m_weight = compute_molecular_weight(aa_seq)\n",
    "    gc_cont = gc_content(value)\n",
    "    index = penguins_df[penguins_df[\"species\"] == key].index\n",
    "    penguins_df.Molecular_weight[index] = m_weight\n",
    "    penguins_df.GC_content[index] = gc_cont\n",
    "    print(penguins_df)\n",
    "    print(species_list)"
   ]
  },
  {
   "cell_type": "code",
   "execution_count": 200,
   "metadata": {},
   "outputs": [
    {
     "data": {
      "text/plain": [
       "<matplotlib.axes._subplots.AxesSubplot at 0x27f87fa2b48>"
      ]
     },
     "execution_count": 200,
     "metadata": {},
     "output_type": "execute_result"
    },
    {
     "data": {
      "image/png": "[encoded data removed]",
      "text/plain": [
       "<Figure size 432x288 with 1 Axes>"
      ]
     },
     "metadata": {
      "needs_background": "light"
     },
     "output_type": "display_data"
    }
   ],
   "source": [
    "## 8 ##\n",
    "## Plot a bar-chart of the mass with the x-axes labeled with species names.\n",
    "## *Q1* What is the smallest penguin species? \n",
    "## *Q2* What else is interesting about this species?\n",
    "penguins_df.plot(x = \"species\", y= \"mass\", kind = \"bar\", color = \"yellow\",\n",
    "                title = \"Barplot of the mass of each species\")\n"
   ]
  },
  {
   "cell_type": "code",
   "execution_count": 201,
   "metadata": {},
   "outputs": [
    {
     "data": {
      "text/plain": [
       "<seaborn.axisgrid.FacetGrid at 0x27f881efa88>"
      ]
     },
     "execution_count": 201,
     "metadata": {},
     "output_type": "execute_result"
    },
    {
     "data": {
      "image/png": "[encoded data removed]",
      "text/plain": [
       "<Figure size 864x576 with 1 Axes>"
      ]
     },
     "metadata": {
      "needs_background": "light"
     },
     "output_type": "display_data"
    }
   ],
   "source": [
    "## 9 ##\n",
    "## Plot a visualization of the molecular weight (y-axis) as a function of GC-content (x-axis).\n",
    "import seaborn as sbn #used to draw scatter plot\n",
    "sbn.lmplot(\"Molecular_weight\",\"GC_content\", data = penguins_df,\n",
    "          fit_reg = False, height = 8, aspect = 1.5)"
   ]
  },
  {
   "cell_type": "code",
   "execution_count": 202,
   "metadata": {},
   "outputs": [],
   "source": [
    "## 10 ##\n",
    "## Save the new DataFrame to a file called \"penguins_mass_cytb.csv\"\n",
    "penguins_df.to_csv (\"penguins_mass_cytb.csv\")"
   ]
  },
  {
   "cell_type": "code",
   "execution_count": 203,
   "metadata": {},
   "outputs": [
    {
     "data": {
      "text/plain": [
       "<matplotlib.axes._subplots.AxesSubplot at 0x27f8845b408>"
      ]
     },
     "execution_count": 203,
     "metadata": {},
     "output_type": "execute_result"
    },
    {
     "data": {
      "image/png": "[encoded data removed]",
      "text/plain": [
       "<Figure size 432x288 with 1 Axes>"
      ]
     },
     "metadata": {
      "needs_background": "light"
     },
     "output_type": "display_data"
    }
   ],
   "source": [
    "## 11 - BONUS ##\n",
    "## What else can we do with this dataset in Python? \n",
    "## Add functions or anything that might be interesting and fun. (optional)\n",
    "penguins_df.plot(x = \"species\", y= \"GC_content\", kind = \"bar\", color = \"yellow\",\n",
    "                title = \"Barplot of the GC_content of each species\")"
   ]
  }
 ],
 "metadata": {
  "kernelspec": {
   "display_name": "Python 3",
   "language": "python",
   "name": "python3"
  },
  "language_info": {
   "codemirror_mode": {
    "name": "ipython",
    "version": 3
   },
   "file_extension": ".py",
   "mimetype": "text/x-python",
   "name": "python",
   "nbconvert_exporter": "python",
   "pygments_lexer": "ipython3",
   "version": "3.7.4"
  }
 },
 "nbformat": 4,
 "nbformat_minor": 2
}
